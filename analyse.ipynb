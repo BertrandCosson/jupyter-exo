{
 "cells": [
  {
   "cell_type": "markdown",
   "metadata": {},
   "source": [
    "# Analyse de gènes différentiellement exprimés"
   ]
  },
  {
   "cell_type": "markdown",
   "metadata": {},
   "source": [
    "Chargement des données et apperçu"
   ]
  },
  {
   "cell_type": "code",
   "execution_count": 1,
   "metadata": {},
   "outputs": [
    {
     "data": {
      "text/html": [
       "<table>\n",
       "<thead><tr><th></th><th scope=col>condA_1</th><th scope=col>condA_2</th><th scope=col>condA_3</th><th scope=col>condA_4</th><th scope=col>condA_5</th><th scope=col>condA_6</th><th scope=col>condA_7</th><th scope=col>condA_8</th><th scope=col>condA_9</th><th scope=col>condA_10</th><th scope=col>⋯</th><th scope=col>condB_2</th><th scope=col>condB_3</th><th scope=col>condB_4</th><th scope=col>condB_5</th><th scope=col>condB_6</th><th scope=col>condB_7</th><th scope=col>condB_8</th><th scope=col>condB_9</th><th scope=col>condB_10</th><th scope=col>Correct_Answer</th></tr></thead>\n",
       "<tbody>\n",
       "\t<tr><th scope=row>gene1</th><td>68 </td><td>47 </td><td> 80</td><td>88 </td><td>90 </td><td>57 </td><td> 36</td><td> 42</td><td>134</td><td>64 </td><td>⋯  </td><td> 61</td><td>80 </td><td> 88</td><td> 35</td><td>54 </td><td> 88</td><td> 78</td><td> 95</td><td>97 </td><td>H0 </td></tr>\n",
       "\t<tr><th scope=row>gene2</th><td>79 </td><td>64 </td><td> 50</td><td>97 </td><td>77 </td><td>64 </td><td> 62</td><td>107</td><td>108</td><td>92 </td><td>⋯  </td><td> 86</td><td>83 </td><td>106</td><td>102</td><td>76 </td><td>117</td><td> 87</td><td>113</td><td>66 </td><td>H0 </td></tr>\n",
       "\t<tr><th scope=row>gene3</th><td>88 </td><td>53 </td><td>108</td><td>43 </td><td>60 </td><td>67 </td><td>101</td><td> 48</td><td> 85</td><td>76 </td><td>⋯  </td><td> 64</td><td>57 </td><td>106</td><td> 95</td><td>58 </td><td>101</td><td> 67</td><td> 92</td><td>96 </td><td>H0 </td></tr>\n",
       "\t<tr><th scope=row>gene4</th><td>37 </td><td>76 </td><td> 72</td><td>89 </td><td>80 </td><td>40 </td><td> 87</td><td> 88</td><td> 71</td><td>48 </td><td>⋯  </td><td> 74</td><td>69 </td><td> 51</td><td> 40</td><td>50 </td><td> 80</td><td>103</td><td> 63</td><td>69 </td><td>H0 </td></tr>\n",
       "\t<tr><th scope=row>gene5</th><td> 8 </td><td>49 </td><td> 41</td><td>31 </td><td>62 </td><td>59 </td><td> 75</td><td> 48</td><td> 44</td><td>47 </td><td>⋯  </td><td> 19</td><td>63 </td><td> 49</td><td> 36</td><td>36 </td><td> 21</td><td> 37</td><td> 44</td><td>11 </td><td>H0 </td></tr>\n",
       "\t<tr><th scope=row>gene6</th><td>85 </td><td>81 </td><td> 58</td><td>72 </td><td>52 </td><td>55 </td><td> 94</td><td> 68</td><td> 57</td><td>51 </td><td>⋯  </td><td>104</td><td>82 </td><td>118</td><td> 70</td><td>71 </td><td> 96</td><td> 51</td><td> 78</td><td>71 </td><td>H0 </td></tr>\n",
       "</tbody>\n",
       "</table>\n"
      ],
      "text/latex": [
       "\\begin{tabular}{r|lllllllllllllllllllll}\n",
       "  & condA\\_1 & condA\\_2 & condA\\_3 & condA\\_4 & condA\\_5 & condA\\_6 & condA\\_7 & condA\\_8 & condA\\_9 & condA\\_10 & ⋯ & condB\\_2 & condB\\_3 & condB\\_4 & condB\\_5 & condB\\_6 & condB\\_7 & condB\\_8 & condB\\_9 & condB\\_10 & Correct\\_Answer\\\\\n",
       "\\hline\n",
       "\tgene1 & 68  & 47  &  80 & 88  & 90  & 57  &  36 &  42 & 134 & 64  & ⋯   &  61 & 80  &  88 &  35 & 54  &  88 &  78 &  95 & 97  & H0 \\\\\n",
       "\tgene2 & 79  & 64  &  50 & 97  & 77  & 64  &  62 & 107 & 108 & 92  & ⋯   &  86 & 83  & 106 & 102 & 76  & 117 &  87 & 113 & 66  & H0 \\\\\n",
       "\tgene3 & 88  & 53  & 108 & 43  & 60  & 67  & 101 &  48 &  85 & 76  & ⋯   &  64 & 57  & 106 &  95 & 58  & 101 &  67 &  92 & 96  & H0 \\\\\n",
       "\tgene4 & 37  & 76  &  72 & 89  & 80  & 40  &  87 &  88 &  71 & 48  & ⋯   &  74 & 69  &  51 &  40 & 50  &  80 & 103 &  63 & 69  & H0 \\\\\n",
       "\tgene5 &  8  & 49  &  41 & 31  & 62  & 59  &  75 &  48 &  44 & 47  & ⋯   &  19 & 63  &  49 &  36 & 36  &  21 &  37 &  44 & 11  & H0 \\\\\n",
       "\tgene6 & 85  & 81  &  58 & 72  & 52  & 55  &  94 &  68 &  57 & 51  & ⋯   & 104 & 82  & 118 &  70 & 71  &  96 &  51 &  78 & 71  & H0 \\\\\n",
       "\\end{tabular}\n"
      ],
      "text/markdown": [
       "\n",
       "| <!--/--> | condA_1 | condA_2 | condA_3 | condA_4 | condA_5 | condA_6 | condA_7 | condA_8 | condA_9 | condA_10 | ⋯ | condB_2 | condB_3 | condB_4 | condB_5 | condB_6 | condB_7 | condB_8 | condB_9 | condB_10 | Correct_Answer | \n",
       "|---|---|---|---|---|---|\n",
       "| gene1 | 68  | 47  |  80 | 88  | 90  | 57  |  36 |  42 | 134 | 64  | ⋯   |  61 | 80  |  88 |  35 | 54  |  88 |  78 |  95 | 97  | H0  | \n",
       "| gene2 | 79  | 64  |  50 | 97  | 77  | 64  |  62 | 107 | 108 | 92  | ⋯   |  86 | 83  | 106 | 102 | 76  | 117 |  87 | 113 | 66  | H0  | \n",
       "| gene3 | 88  | 53  | 108 | 43  | 60  | 67  | 101 |  48 |  85 | 76  | ⋯   |  64 | 57  | 106 |  95 | 58  | 101 |  67 |  92 | 96  | H0  | \n",
       "| gene4 | 37  | 76  |  72 | 89  | 80  | 40  |  87 |  88 |  71 | 48  | ⋯   |  74 | 69  |  51 |  40 | 50  |  80 | 103 |  63 | 69  | H0  | \n",
       "| gene5 |  8  | 49  |  41 | 31  | 62  | 59  |  75 |  48 |  44 | 47  | ⋯   |  19 | 63  |  49 |  36 | 36  |  21 |  37 |  44 | 11  | H0  | \n",
       "| gene6 | 85  | 81  |  58 | 72  | 52  | 55  |  94 |  68 |  57 | 51  | ⋯   | 104 | 82  | 118 |  70 | 71  |  96 |  51 |  78 | 71  | H0  | \n",
       "\n",
       "\n"
      ],
      "text/plain": [
       "      condA_1 condA_2 condA_3 condA_4 condA_5 condA_6 condA_7 condA_8 condA_9\n",
       "gene1 68      47       80     88      90      57       36      42     134    \n",
       "gene2 79      64       50     97      77      64       62     107     108    \n",
       "gene3 88      53      108     43      60      67      101      48      85    \n",
       "gene4 37      76       72     89      80      40       87      88      71    \n",
       "gene5  8      49       41     31      62      59       75      48      44    \n",
       "gene6 85      81       58     72      52      55       94      68      57    \n",
       "      condA_10 ⋯ condB_2 condB_3 condB_4 condB_5 condB_6 condB_7 condB_8\n",
       "gene1 64       ⋯  61     80       88      35     54       88      78    \n",
       "gene2 92       ⋯  86     83      106     102     76      117      87    \n",
       "gene3 76       ⋯  64     57      106      95     58      101      67    \n",
       "gene4 48       ⋯  74     69       51      40     50       80     103    \n",
       "gene5 47       ⋯  19     63       49      36     36       21      37    \n",
       "gene6 51       ⋯ 104     82      118      70     71       96      51    \n",
       "      condB_9 condB_10 Correct_Answer\n",
       "gene1  95     97       H0            \n",
       "gene2 113     66       H0            \n",
       "gene3  92     96       H0            \n",
       "gene4  63     69       H0            \n",
       "gene5  44     11       H0            \n",
       "gene6  78     71       H0            "
      ]
     },
     "metadata": {},
     "output_type": "display_data"
    }
   ],
   "source": [
    "expMat = read.table(\"exprMat_DUO.tsv\", header = T, sep = \"\\t\", row.names = 1)\n",
    "head(expMat)"
   ]
  },
  {
   "cell_type": "markdown",
   "metadata": {},
   "source": [
    "Nombre de réplicas pour chaque expérience :"
   ]
  },
  {
   "cell_type": "code",
   "execution_count": 2,
   "metadata": {},
   "outputs": [],
   "source": [
    "rep = 10"
   ]
  },
  {
   "cell_type": "markdown",
   "metadata": {},
   "source": [
    "## Test pour la première expérience "
   ]
  },
  {
   "cell_type": "code",
   "execution_count": 3,
   "metadata": {},
   "outputs": [],
   "source": [
    "expA = expMat[1, 1:rep]\n",
    "expB = expMat[1, (rep+1):(2*rep)]"
   ]
  },
  {
   "cell_type": "markdown",
   "metadata": {},
   "source": [
    "Calcul du *t-test*"
   ]
  },
  {
   "cell_type": "code",
   "execution_count": 4,
   "metadata": {},
   "outputs": [
    {
     "data": {
      "text/html": [
       "<strong>t:</strong> -0.519072382623458"
      ],
      "text/latex": [
       "\\textbf{t:} -0.519072382623458"
      ],
      "text/markdown": [
       "**t:** -0.519072382623458"
      ],
      "text/plain": [
       "         t \n",
       "-0.5190724 "
      ]
     },
     "metadata": {},
     "output_type": "display_data"
    },
    {
     "data": {
      "text/html": [
       "0.610807516143963"
      ],
      "text/latex": [
       "0.610807516143963"
      ],
      "text/markdown": [
       "0.610807516143963"
      ],
      "text/plain": [
       "[1] 0.6108075"
      ]
     },
     "metadata": {},
     "output_type": "display_data"
    }
   ],
   "source": [
    "test  = t.test(expA, expB)\n",
    "test$statistic\n",
    "test$p.value"
   ]
  },
  {
   "cell_type": "code",
   "execution_count": 5,
   "metadata": {},
   "outputs": [
    {
     "name": "stdout",
     "output_type": "stream",
     "text": [
      "[1] \"H0 :: gene is not differentially expressed\"\n"
     ]
    }
   ],
   "source": [
    "alpha = 0.05 \n",
    "if(test$p.value < alpha){\n",
    "  print(\"H1 :: gene is differentially expressed\")\n",
    "}else{\n",
    "  print(\"H0 :: gene is not differentially expressed\")\n",
    "}"
   ]
  },
  {
   "cell_type": "markdown",
   "metadata": {},
   "source": [
    "Le gène 1 est bien **différentiellement** exprimé !"
   ]
  },
  {
   "cell_type": "markdown",
   "metadata": {},
   "source": [
    "## Calcul de la p-value pour tous les gènes"
   ]
  },
  {
   "cell_type": "code",
   "execution_count": 6,
   "metadata": {},
   "outputs": [],
   "source": [
    "pval = NULL\n",
    "for(i in 1:nrow(expMat)){\n",
    "\n",
    "  expA = expMat[i, 1:rep]\n",
    "  expB = expMat[i, (rep+1):(2*rep)]\n",
    "  \n",
    "  pval = c(pval, t.test(expA, expB)$p.value)\n",
    "\n",
    "}"
   ]
  },
  {
   "cell_type": "code",
   "execution_count": 7,
   "metadata": {},
   "outputs": [
    {
     "data": {
      "image/png": "[encoded data removed]",
      "text/plain": [
       "Plot with title “Student tests applied to all genes”"
      ]
     },
     "metadata": {},
     "output_type": "display_data"
    }
   ],
   "source": [
    "hist(pval, xlab = \"calculated p-val\", \n",
    "     main = \"Student tests applied to all genes\", nclass = 50, col = \"pink\")"
   ]
  },
  {
   "cell_type": "code",
   "execution_count": null,
   "metadata": {},
   "outputs": [],
   "source": []
  }
 ],
 "metadata": {
  "kernelspec": {
   "display_name": "R",
   "language": "R",
   "name": "ir"
  },
  "language_info": {
   "codemirror_mode": "r",
   "file_extension": ".r",
   "mimetype": "text/x-r-source",
   "name": "R",
   "pygments_lexer": "r",
   "version": "3.5.1"
  }
 },
 "nbformat": 4,
 "nbformat_minor": 2
}

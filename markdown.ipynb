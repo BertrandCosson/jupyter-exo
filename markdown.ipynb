{
 "cells": [
  {
   "cell_type": "markdown",
   "metadata": {},
   "source": [
    "# Démo Markdown (titre de niveau 1)\n",
    " \n",
    "## Voici un titre de niveau 2 \n",
    " \n",
    "### Et un autre de niveau  3\n",
    " \n",
    "Voici du texte en *italique* et en **gras**.\n",
    " \n",
    "On peut également ajouter des [liens](http://jupyter.org/) ici vers http://jupyter.org/\n",
    " \n",
    "et aussi des images :\n",
    " \n",
    "![](http://jupyter.org/assets/nav_logo.svg)\n",
    " \n",
    "On peut compliquer un peu les choses avec une formule mathématique : \n",
    "\n",
    "$\n",
    "E = mc^2\n",
    "$\n",
    "\n",
    "Du code informatique : \n",
    "```\n",
    "expA = expMat[1, 1:rep]\n",
    "expB = expMat[1, (rep+1):(2*rep)]\n",
    "```\n",
    "\n",
    "Et même, pourquoi pas, un tableau :\n",
    "\n",
    "| Gene | CondA | CondB |\n",
    "|------|-------|-------|\n",
    "| plouf | 3 | 4 |\n",
    "| ploc | 5 | 6 |\n",
    "\n",
    "\n",
    "\n"
   ]
  },
  {
   "cell_type": "code",
   "execution_count": null,
   "metadata": {},
   "outputs": [],
   "source": []
  }
 ],
 "metadata": {
  "kernelspec": {
   "display_name": "R",
   "language": "R",
   "name": "ir"
  },
  "language_info": {
   "codemirror_mode": "r",
   "file_extension": ".r",
   "mimetype": "text/x-r-source",
   "name": "R",
   "pygments_lexer": "r",
   "version": "3.5.1"
  }
 },
 "nbformat": 4,
 "nbformat_minor": 2
}
